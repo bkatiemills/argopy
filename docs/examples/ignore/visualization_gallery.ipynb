{
 "cells": [
  {
   "cell_type": "code",
   "execution_count": 1,
   "metadata": {
    "nbsphinx": "hidden"
   },
   "outputs": [
    {
     "name": "stderr",
     "output_type": "stream",
     "text": [
      "/Users/gmaze/miniconda3/envs/argopy-docs/lib/python3.8/site-packages/pyproj/__init__.py:89: UserWarning: pyproj unable to set database path.\n",
      "  _pyproj_global_context_initialize()\n"
     ]
    }
   ],
   "source": [
    "# HIDDEN CELL\n",
    "import sys, os\n",
    "\n",
    "# # Importing argopy in dev mode:\n",
    "# on_rtd = os.environ.get('READTHEDOCS', None) == 'True'\n",
    "# if not on_rtd:\n",
    "#     p = \"/Users/gmaze/git/github/euroargodev/argopy\"\n",
    "#     sys.path.insert(0, p)\n",
    "#     import git\n",
    "#     import argopy\n",
    "#     from argopy.options import OPTIONS\n",
    "#     print(\"argopy:\", argopy.__version__, \n",
    "#           \"\\nsrc:\", argopy.__file__, \n",
    "#           \"\\nbranch:\", git.Repo(path=p, search_parent_directories=True).active_branch.name, \n",
    "#           \"\\noptions:\", OPTIONS)\n",
    "# else:\n",
    "#     sys.path.insert(0, os.path.abspath(os.path.join('..','..'))) # Otherwise rtd do not find argopy\n",
    "\n",
    "import argopy\n",
    "# from argopy.options import OPTIONS\n",
    "    \n",
    "import xarray as xr\n",
    "# xr.set_options(display_style=\"html\");\n",
    "xr.set_options(display_style=\"text\");"
   ]
  },
  {
   "cell_type": "markdown",
   "metadata": {},
   "source": [
    "# Visualization Gallery"
   ]
  },
  {
   "cell_type": "code",
   "execution_count": null,
   "metadata": {},
   "outputs": [],
   "source": [
    "# from argopy import DataFetcher as ArgoDataFetcher\n",
    "# from argopy.utilities import open_etopo1\n",
    "# from argopy.plotters import discrete_coloring, latlongrid\n",
    "# import numpy as np\n",
    "\n",
    "# # For plots:\n",
    "# import matplotlib.pyplot as plt\n",
    "# import matplotlib as mpl\n",
    "# import cmocean\n",
    "# from pandas.plotting import register_matplotlib_converters\n",
    "# register_matplotlib_converters()"
   ]
  },
  {
   "cell_type": "markdown",
   "metadata": {},
   "source": [
    "# Load data"
   ]
  },
  {
   "cell_type": "code",
   "execution_count": 2,
   "metadata": {},
   "outputs": [
    {
     "data": {
      "text/html": [
       "<pre>&lt;xarray.Dataset&gt;\n",
       "Dimensions:          (N_POINTS: 998)\n",
       "Coordinates:\n",
       "  * N_POINTS         (N_POINTS) int64 0 1 2 3 4 5 6 ... 992 993 994 995 996 997\n",
       "    LATITUDE         (N_POINTS) float64 24.54 24.54 25.04 ... 26.67 24.96 24.96\n",
       "    LONGITUDE        (N_POINTS) float64 -45.14 -45.14 -51.58 ... -50.4 -50.4\n",
       "    TIME             (N_POINTS) datetime64[ns] 2011-01-01T11:49:19 ... 2011-0...\n",
       "Data variables: (12/15)\n",
       "    CYCLE_NUMBER     (N_POINTS) int64 23 23 10 10 10 10 10 ... 1 5 2 10 10 38 38\n",
       "    DATA_MODE        (N_POINTS) &lt;U1 &#x27;D&#x27; &#x27;D&#x27; &#x27;D&#x27; &#x27;D&#x27; &#x27;D&#x27; ... &#x27;D&#x27; &#x27;D&#x27; &#x27;D&#x27; &#x27;D&#x27; &#x27;D&#x27;\n",
       "    DIRECTION        (N_POINTS) &lt;U1 &#x27;A&#x27; &#x27;A&#x27; &#x27;A&#x27; &#x27;A&#x27; &#x27;A&#x27; ... &#x27;A&#x27; &#x27;A&#x27; &#x27;A&#x27; &#x27;A&#x27; &#x27;A&#x27;\n",
       "    PLATFORM_NUMBER  (N_POINTS) int64 1901463 1901463 ... 1901463 1901463\n",
       "    POSITION_QC      (N_POINTS) int64 1 1 1 1 1 1 1 1 1 1 ... 1 1 1 1 1 1 1 1 1\n",
       "    PRES             (N_POINTS) float64 5.0 10.0 2.0 4.0 ... 5.12 9.42 5.0 10.0\n",
       "    ...               ...\n",
       "    PSAL_ERROR       (N_POINTS) float32 0.01 0.01 0.01 ... 0.01 0.01091 0.01182\n",
       "    PSAL_QC          (N_POINTS) int64 1 1 1 1 1 1 1 1 1 1 ... 1 1 1 1 1 1 1 1 1\n",
       "    TEMP             (N_POINTS) float64 24.08 24.08 24.03 ... 25.64 25.1 24.79\n",
       "    TEMP_ERROR       (N_POINTS) float32 0.002 0.002 0.002 ... 0.0025 0.002 0.002\n",
       "    TEMP_QC          (N_POINTS) int64 1 1 1 1 1 1 1 1 1 1 ... 1 1 1 1 1 1 1 1 1\n",
       "    TIME_QC          (N_POINTS) int64 1 1 1 1 1 1 1 1 1 1 ... 1 1 1 1 1 1 1 1 1\n",
       "Attributes:\n",
       "    DATA_ID:              ARGO\n",
       "    DOI:                  http://doi.org/10.17882/42182\n",
       "    Fetched_from:         https://erddap.ifremer.fr/erddap\n",
       "    Fetched_by:           gmaze\n",
       "    Fetched_date:         2023/07/20\n",
       "    Fetched_constraints:  [x=-75.00/-45.00; y=20.00/30.00; z=0.0/10.0; t=2011...\n",
       "    Fetched_uri:          [&#x27;https://erddap.ifremer.fr/erddap/tabledap/ArgoFlo...\n",
       "    history:              Variables filtered according to DATA_MODE; Variable...</pre>"
      ],
      "text/plain": [
       "<xarray.Dataset>\n",
       "Dimensions:          (N_POINTS: 998)\n",
       "Coordinates:\n",
       "  * N_POINTS         (N_POINTS) int64 0 1 2 3 4 5 6 ... 992 993 994 995 996 997\n",
       "    LATITUDE         (N_POINTS) float64 24.54 24.54 25.04 ... 26.67 24.96 24.96\n",
       "    LONGITUDE        (N_POINTS) float64 -45.14 -45.14 -51.58 ... -50.4 -50.4\n",
       "    TIME             (N_POINTS) datetime64[ns] 2011-01-01T11:49:19 ... 2011-0...\n",
       "Data variables: (12/15)\n",
       "    CYCLE_NUMBER     (N_POINTS) int64 23 23 10 10 10 10 10 ... 1 5 2 10 10 38 38\n",
       "    DATA_MODE        (N_POINTS) <U1 'D' 'D' 'D' 'D' 'D' ... 'D' 'D' 'D' 'D' 'D'\n",
       "    DIRECTION        (N_POINTS) <U1 'A' 'A' 'A' 'A' 'A' ... 'A' 'A' 'A' 'A' 'A'\n",
       "    PLATFORM_NUMBER  (N_POINTS) int64 1901463 1901463 ... 1901463 1901463\n",
       "    POSITION_QC      (N_POINTS) int64 1 1 1 1 1 1 1 1 1 1 ... 1 1 1 1 1 1 1 1 1\n",
       "    PRES             (N_POINTS) float64 5.0 10.0 2.0 4.0 ... 5.12 9.42 5.0 10.0\n",
       "    ...               ...\n",
       "    PSAL_ERROR       (N_POINTS) float32 0.01 0.01 0.01 ... 0.01 0.01091 0.01182\n",
       "    PSAL_QC          (N_POINTS) int64 1 1 1 1 1 1 1 1 1 1 ... 1 1 1 1 1 1 1 1 1\n",
       "    TEMP             (N_POINTS) float64 24.08 24.08 24.03 ... 25.64 25.1 24.79\n",
       "    TEMP_ERROR       (N_POINTS) float32 0.002 0.002 0.002 ... 0.0025 0.002 0.002\n",
       "    TEMP_QC          (N_POINTS) int64 1 1 1 1 1 1 1 1 1 1 ... 1 1 1 1 1 1 1 1 1\n",
       "    TIME_QC          (N_POINTS) int64 1 1 1 1 1 1 1 1 1 1 ... 1 1 1 1 1 1 1 1 1\n",
       "Attributes:\n",
       "    DATA_ID:              ARGO\n",
       "    DOI:                  http://doi.org/10.17882/42182\n",
       "    Fetched_from:         https://erddap.ifremer.fr/erddap\n",
       "    Fetched_by:           gmaze\n",
       "    Fetched_date:         2023/07/20\n",
       "    Fetched_constraints:  [x=-75.00/-45.00; y=20.00/30.00; z=0.0/10.0; t=2011...\n",
       "    Fetched_uri:          ['https://erddap.ifremer.fr/erddap/tabledap/ArgoFlo...\n",
       "    history:              Variables filtered according to DATA_MODE; Variable..."
      ]
     },
     "execution_count": 2,
     "metadata": {},
     "output_type": "execute_result"
    }
   ],
   "source": [
    "# argopy.set_options(src='gdac')\n",
    "\n",
    "ds = argopy.DataFetcher(src='erddap').region([-75, -45, 20, 30, 0, 10, '2011-01-01', '2011-06']).to_xarray()\n",
    "# ds = ArgoDataFetcher().float([6902746, 6902747, 3902144, 5905072, 5905420]).to_xarray()\n",
    "# ds = ArgoDataFetcher().float([6902746, 6902747, 6902748, 6902749, 6902750]).to_xarray()\n",
    "# ds = ArgoDataFetcher().float([6902746, 6902747, 6902757, 6902766, 6902772, 6902914, 6902915, 6902916]).to_xarray()\n",
    "ds"
   ]
  },
  {
   "cell_type": "code",
   "execution_count": 3,
   "metadata": {},
   "outputs": [
    {
     "data": {
      "text/plain": [
       "2721"
      ]
     },
     "execution_count": 3,
     "metadata": {},
     "output_type": "execute_result"
    }
   ],
   "source": [
    "argopy.DataFetcher(src='erddap').region([-75, -45, 20, 30, 0, 10, '2011-01-01', '2011-06']).fetcher.N_POINTS"
   ]
  },
  {
   "cell_type": "code",
   "execution_count": 4,
   "metadata": {},
   "outputs": [
    {
     "data": {
      "text/html": [
       "<pre>&lt;xarray.Dataset&gt;\n",
       "Dimensions:          (N_PROF: 467, N_LEVELS: 10)\n",
       "Coordinates:\n",
       "  * N_PROF           (N_PROF) int64 15 286 125 0 223 46 ... 371 460 465 433 30\n",
       "  * N_LEVELS         (N_LEVELS) int64 0 1 2 3 4 5 6 7 8 9\n",
       "    LATITUDE         (N_PROF) float64 24.54 25.04 21.48 ... 21.49 26.67 24.96\n",
       "    LONGITUDE        (N_PROF) float64 -45.14 -51.58 -60.82 ... -66.83 -50.4\n",
       "    TIME             (N_PROF) datetime64[ns] 2011-01-01T11:49:19 ... 2011-05-...\n",
       "Data variables: (12/15)\n",
       "    CYCLE_NUMBER     (N_PROF) int64 23 10 135 23 119 160 134 ... 163 1 5 2 10 38\n",
       "    DATA_MODE        (N_PROF) &lt;U1 &#x27;D&#x27; &#x27;D&#x27; &#x27;D&#x27; &#x27;D&#x27; &#x27;D&#x27; ... &#x27;D&#x27; &#x27;D&#x27; &#x27;D&#x27; &#x27;D&#x27; &#x27;D&#x27;\n",
       "    DIRECTION        (N_PROF) &lt;U1 &#x27;A&#x27; &#x27;A&#x27; &#x27;A&#x27; &#x27;A&#x27; &#x27;A&#x27; ... &#x27;A&#x27; &#x27;A&#x27; &#x27;A&#x27; &#x27;A&#x27; &#x27;A&#x27;\n",
       "    PLATFORM_NUMBER  (N_PROF) int64 1901463 4901211 4900818 ... 6900778 1901463\n",
       "    POSITION_QC      (N_PROF) int64 1 1 1 1 1 1 1 1 1 1 ... 1 1 1 1 1 1 1 1 1 1\n",
       "    PRES             (N_PROF, N_LEVELS) float64 5.0 10.0 nan nan ... nan nan nan\n",
       "    ...               ...\n",
       "    PSAL_ERROR       (N_PROF, N_LEVELS) float32 0.01 0.01 nan ... nan nan nan\n",
       "    PSAL_QC          (N_PROF) int64 1 1 1 1 1 1 1 1 1 1 ... 1 1 1 1 1 1 1 1 1 1\n",
       "    TEMP             (N_PROF, N_LEVELS) float64 24.08 24.08 nan ... nan nan nan\n",
       "    TEMP_ERROR       (N_PROF) float32 0.002 0.002 0.002 ... 0.002 0.0025 0.002\n",
       "    TEMP_QC          (N_PROF) int64 1 1 1 1 1 1 1 1 1 1 ... 1 1 1 1 1 1 1 1 1 1\n",
       "    TIME_QC          (N_PROF) int64 1 1 1 1 1 1 1 1 1 1 ... 1 1 1 1 1 1 1 1 1 1\n",
       "Attributes:\n",
       "    DATA_ID:              ARGO\n",
       "    DOI:                  http://doi.org/10.17882/42182\n",
       "    Fetched_from:         https://erddap.ifremer.fr/erddap\n",
       "    Fetched_by:           gmaze\n",
       "    Fetched_date:         2023/07/20\n",
       "    Fetched_constraints:  [x=-75.00/-45.00; y=20.00/30.00; z=0.0/10.0; t=2011...\n",
       "    Fetched_uri:          [&#x27;https://erddap.ifremer.fr/erddap/tabledap/ArgoFlo...\n",
       "    history:              Variables filtered according to DATA_MODE; Variable...</pre>"
      ],
      "text/plain": [
       "<xarray.Dataset>\n",
       "Dimensions:          (N_PROF: 467, N_LEVELS: 10)\n",
       "Coordinates:\n",
       "  * N_PROF           (N_PROF) int64 15 286 125 0 223 46 ... 371 460 465 433 30\n",
       "  * N_LEVELS         (N_LEVELS) int64 0 1 2 3 4 5 6 7 8 9\n",
       "    LATITUDE         (N_PROF) float64 24.54 25.04 21.48 ... 21.49 26.67 24.96\n",
       "    LONGITUDE        (N_PROF) float64 -45.14 -51.58 -60.82 ... -66.83 -50.4\n",
       "    TIME             (N_PROF) datetime64[ns] 2011-01-01T11:49:19 ... 2011-05-...\n",
       "Data variables: (12/15)\n",
       "    CYCLE_NUMBER     (N_PROF) int64 23 10 135 23 119 160 134 ... 163 1 5 2 10 38\n",
       "    DATA_MODE        (N_PROF) <U1 'D' 'D' 'D' 'D' 'D' ... 'D' 'D' 'D' 'D' 'D'\n",
       "    DIRECTION        (N_PROF) <U1 'A' 'A' 'A' 'A' 'A' ... 'A' 'A' 'A' 'A' 'A'\n",
       "    PLATFORM_NUMBER  (N_PROF) int64 1901463 4901211 4900818 ... 6900778 1901463\n",
       "    POSITION_QC      (N_PROF) int64 1 1 1 1 1 1 1 1 1 1 ... 1 1 1 1 1 1 1 1 1 1\n",
       "    PRES             (N_PROF, N_LEVELS) float64 5.0 10.0 nan nan ... nan nan nan\n",
       "    ...               ...\n",
       "    PSAL_ERROR       (N_PROF, N_LEVELS) float32 0.01 0.01 nan ... nan nan nan\n",
       "    PSAL_QC          (N_PROF) int64 1 1 1 1 1 1 1 1 1 1 ... 1 1 1 1 1 1 1 1 1 1\n",
       "    TEMP             (N_PROF, N_LEVELS) float64 24.08 24.08 nan ... nan nan nan\n",
       "    TEMP_ERROR       (N_PROF) float32 0.002 0.002 0.002 ... 0.002 0.0025 0.002\n",
       "    TEMP_QC          (N_PROF) int64 1 1 1 1 1 1 1 1 1 1 ... 1 1 1 1 1 1 1 1 1 1\n",
       "    TIME_QC          (N_PROF) int64 1 1 1 1 1 1 1 1 1 1 ... 1 1 1 1 1 1 1 1 1 1\n",
       "Attributes:\n",
       "    DATA_ID:              ARGO\n",
       "    DOI:                  http://doi.org/10.17882/42182\n",
       "    Fetched_from:         https://erddap.ifremer.fr/erddap\n",
       "    Fetched_by:           gmaze\n",
       "    Fetched_date:         2023/07/20\n",
       "    Fetched_constraints:  [x=-75.00/-45.00; y=20.00/30.00; z=0.0/10.0; t=2011...\n",
       "    Fetched_uri:          ['https://erddap.ifremer.fr/erddap/tabledap/ArgoFlo...\n",
       "    history:              Variables filtered according to DATA_MODE; Variable..."
      ]
     },
     "execution_count": 4,
     "metadata": {},
     "output_type": "execute_result"
    }
   ],
   "source": [
    "this = ds.argo.point2profile()\n",
    "this"
   ]
  },
  {
   "cell_type": "markdown",
   "metadata": {
    "toc-hr-collapsed": true,
    "toc-nb-collapsed": true
   },
   "source": [
    "# Map with profile locations"
   ]
  },
  {
   "cell_type": "markdown",
   "metadata": {},
   "source": [
    "## Simple plots without projections"
   ]
  },
  {
   "cell_type": "markdown",
   "metadata": {},
   "source": [
    "### Measurement coordinates"
   ]
  },
  {
   "cell_type": "code",
   "execution_count": 5,
   "metadata": {},
   "outputs": [
    {
     "ename": "NameError",
     "evalue": "name 'plt' is not defined",
     "output_type": "error",
     "traceback": [
      "\u001b[0;31m---------------------------------------------------------------------------\u001b[0m",
      "\u001b[0;31mNameError\u001b[0m                                 Traceback (most recent call last)",
      "Cell \u001b[0;32mIn[5], line 1\u001b[0m\n\u001b[0;32m----> 1\u001b[0m fig, ax \u001b[38;5;241m=\u001b[39m \u001b[43mplt\u001b[49m\u001b[38;5;241m.\u001b[39msubplots(figsize\u001b[38;5;241m=\u001b[39m(\u001b[38;5;241m10\u001b[39m,\u001b[38;5;241m5\u001b[39m))\n\u001b[1;32m      3\u001b[0m \u001b[38;5;66;03m# Color by years of sampling:\u001b[39;00m\n\u001b[1;32m      4\u001b[0m yr_range \u001b[38;5;241m=\u001b[39m np\u001b[38;5;241m.\u001b[39marange(this[\u001b[38;5;124m'\u001b[39m\u001b[38;5;124mTIME.year\u001b[39m\u001b[38;5;124m'\u001b[39m]\u001b[38;5;241m.\u001b[39mmin(), this[\u001b[38;5;124m'\u001b[39m\u001b[38;5;124mTIME.year\u001b[39m\u001b[38;5;124m'\u001b[39m]\u001b[38;5;241m.\u001b[39mmax()\u001b[38;5;241m+\u001b[39m\u001b[38;5;241m1\u001b[39m,\u001b[38;5;241m1\u001b[39m)\n",
      "\u001b[0;31mNameError\u001b[0m: name 'plt' is not defined"
     ]
    }
   ],
   "source": [
    "fig, ax = plt.subplots(figsize=(10,5))\n",
    "\n",
    "# Color by years of sampling:\n",
    "yr_range = np.arange(this['TIME.year'].min(), this['TIME.year'].max()+1,1)\n",
    "dc = discrete_coloring(name='Spectral', N=len(yr_range) )\n",
    "\n",
    "plt.scatter(this['LONGITUDE'], this['LATITUDE'], c=this['TIME.year'], cmap=dc.cmap, vmin=yr_range[0], vmax=yr_range[-1])\n",
    "dc.cbar(ticklabels=yr_range, fraction=0.03, label='Year of sampling')\n",
    "plt.xlabel('LONGITUDE')\n",
    "plt.ylabel('LATITUDE')\n",
    "plt.gca().grid()\n",
    "plt.title(ds.attrs['Fetched_constraints']);"
   ]
  },
  {
   "cell_type": "code",
   "execution_count": null,
   "metadata": {},
   "outputs": [],
   "source": [
    "fig, ax = plt.subplots(figsize=(10,5))\n",
    "\n",
    "# Color by month of sampling:\n",
    "rge = np.arange(1,12+1,1)\n",
    "dc = discrete_coloring(name='Month') # Monthly colors for Northern Hemisphere\n",
    "\n",
    "plt.scatter(this['LONGITUDE'], this['LATITUDE'], c=this['TIME.month'], cmap=dc.cmap, vmin=1, vmax=12)\n",
    "dc.cbar(ticklabels=rge, fraction=0.03, label='Month of sampling')\n",
    "plt.xlabel('LONGITUDE')\n",
    "plt.ylabel('LATITUDE')\n",
    "plt.gca().grid()\n",
    "plt.title(ds.attrs['Fetched_constraints']);"
   ]
  },
  {
   "cell_type": "code",
   "execution_count": null,
   "metadata": {},
   "outputs": [],
   "source": [
    "fig, ax = plt.subplots(figsize=(10,5))\n",
    "\n",
    "# 1 color per float:\n",
    "rge = np.arange(1,len(np.unique(this['PLATFORM_NUMBER']))+1,1)\n",
    "dc = discrete_coloring(name='Spectral', N=len(rge))\n",
    "\n",
    "plt.scatter(this['LONGITUDE'], this['LATITUDE'], c=this['PLATFORM_NUMBER'], cmap=dc.cmap)\n",
    "dc.cbar(ticklabels=np.unique(this['PLATFORM_NUMBER']), fraction=0.03, label='Floats ID')\n",
    "plt.xlabel('LONGITUDE')\n",
    "plt.ylabel('LATITUDE')\n",
    "plt.gca().grid()\n",
    "plt.title(ds.attrs['Fetched_constraints']);"
   ]
  },
  {
   "cell_type": "markdown",
   "metadata": {},
   "source": [
    "### Trajectories: \"Spaghetti plot\""
   ]
  },
  {
   "cell_type": "code",
   "execution_count": null,
   "metadata": {},
   "outputs": [],
   "source": [
    "fig, ax = plt.subplots(figsize=(10,5))\n",
    "\n",
    "# 1 color per float:\n",
    "rge = np.arange(1,len(np.unique(this['PLATFORM_NUMBER']))+1,1)\n",
    "dc = discrete_coloring(name='Set2', N=len(rge))\n",
    "\n",
    "for ii, (wmo, that) in enumerate(this.groupby('PLATFORM_NUMBER')):\n",
    "    ax.plot(that['LONGITUDE'], that['LATITUDE'], 'k.-', zorder=1, color=dc.to_rgba(rge, rge[ii]))\n",
    "dc.cbar(ticklabels=np.unique(this['PLATFORM_NUMBER']), fraction=0.03, label='Floats ID')\n",
    "plt.xlabel('LONGITUDE')\n",
    "plt.ylabel('LATITUDE')\n",
    "plt.gca().grid()\n",
    "plt.title(ds.attrs['Fetched_constraints']);"
   ]
  },
  {
   "cell_type": "markdown",
   "metadata": {},
   "source": [
    "## Simple plots with projections (using cartopy)"
   ]
  },
  {
   "cell_type": "code",
   "execution_count": null,
   "metadata": {},
   "outputs": [],
   "source": [
    "import cartopy.crs as ccrs\n",
    "import cartopy.feature as cfeature"
   ]
  },
  {
   "cell_type": "markdown",
   "metadata": {},
   "source": [
    "### Measurement coordinates"
   ]
  },
  {
   "cell_type": "code",
   "execution_count": null,
   "metadata": {},
   "outputs": [],
   "source": [
    "lat_min, lat_max = this['LATITUDE'].min(), this['LATITUDE'].max()\n",
    "lon_min, lon_max = this['LONGITUDE'].min(), this['LONGITUDE'].max()\n",
    "proj = ccrs.PlateCarree()\n",
    "subplot_kw={'projection': proj, 'extent': np.array([lon_min, lon_max, lat_min, lat_max]) + np.array([-5,+5,-5,+5])}\n",
    "fig, ax = plt.subplots(nrows=1, ncols=1, figsize=(8,8), dpi=90, facecolor='w', edgecolor='k', subplot_kw=subplot_kw)\n",
    "\n",
    "# Color by years of sampling:\n",
    "yr_range = np.arange(this['TIME.year'].min(), this['TIME.year'].max()+1,1)\n",
    "dc = discrete_coloring(name='Spectral', N=len(yr_range) )\n",
    "\n",
    "plt.scatter(this['LONGITUDE'], this['LATITUDE'], c=this['TIME.year'], cmap=dc.cmap, vmin=yr_range[0], vmax=yr_range[-1], s=2)\n",
    "dc.cbar(ticklabels=yr_range, fraction=0.03, label='Year of sampling')\n",
    "plt.xlabel('LONGITUDE')\n",
    "plt.ylabel('LATITUDE')\n",
    "gl = latlongrid(ax, dx=5, dy=5, fontsize=10)\n",
    "ax.add_feature(cfeature.LAND)\n",
    "ax.add_feature(cfeature.COASTLINE)\n",
    "plt.title(ds.attrs['Fetched_constraints']);"
   ]
  },
  {
   "cell_type": "markdown",
   "metadata": {},
   "source": [
    "### Trajectories: \"Spaghetti plot\""
   ]
  },
  {
   "cell_type": "code",
   "execution_count": null,
   "metadata": {},
   "outputs": [],
   "source": [
    "# import matplotlib.cm as cm\n",
    "# import matplotlib.colors as mcolors\n",
    "    \n",
    "lat_min, lat_max = this['LATITUDE'].min(), this['LATITUDE'].max()\n",
    "lon_min, lon_max = this['LONGITUDE'].min(), this['LONGITUDE'].max()\n",
    "large_box = np.array([lon_min, lon_max, lat_min, lat_max]) + np.array([-5,+5,-5,+5])\n",
    "\n",
    "proj = ccrs.PlateCarree()\n",
    "subplot_kw={'projection': proj, 'extent': large_box}\n",
    "fig, ax = plt.subplots(nrows=1, ncols=1, figsize=(8,8), dpi=90, facecolor='w', edgecolor='k', subplot_kw=subplot_kw)\n",
    "\n",
    "# 1 color per float:\n",
    "rge = np.arange(1,len(np.unique(this['PLATFORM_NUMBER']))+1,1)\n",
    "dc = discrete_coloring(name='Set2', N=len(rge))\n",
    "    \n",
    "for ii, (wmo, that) in enumerate(this.groupby('PLATFORM_NUMBER')):\n",
    "    ax.plot(that['LONGITUDE'], that['LATITUDE'], 'k.-', zorder=1, color=dc.to_rgba(rge, rge[ii]), markersize=2)\n",
    "dc.cbar(ticklabels=np.unique(this['PLATFORM_NUMBER']), fraction=0.03, label='Floats ID')\n",
    "\n",
    "plt.xlabel('LONGITUDE')\n",
    "plt.ylabel('LATITUDE')\n",
    "gl = latlongrid(ax, dx=5, dy=5, fontsize=10)\n",
    "ax.add_feature(cfeature.LAND)\n",
    "ax.add_feature(cfeature.COASTLINE)\n",
    "plt.title(ds.attrs['Fetched_constraints']);"
   ]
  },
  {
   "cell_type": "markdown",
   "metadata": {},
   "source": [
    "### Map with bathymetry"
   ]
  },
  {
   "cell_type": "code",
   "execution_count": null,
   "metadata": {},
   "outputs": [],
   "source": [
    "lat_min, lat_max = this['LATITUDE'].min(), this['LATITUDE'].max()\n",
    "lon_min, lon_max = this['LONGITUDE'].min(), this['LONGITUDE'].max()\n",
    "box = np.array([lon_min, lon_max, lat_min, lat_max])\n",
    "large_box = np.array([lon_min, lon_max, lat_min, lat_max]) + np.array([-5,+5,-5,+5])"
   ]
  },
  {
   "cell_type": "code",
   "execution_count": null,
   "metadata": {},
   "outputs": [],
   "source": [
    "%%time\n",
    "# Load topo for this box (retrieved online from gis.ngdc.noaa.gov):\n",
    "topo = open_etopo1(large_box, res='l')"
   ]
  },
  {
   "cell_type": "code",
   "execution_count": null,
   "metadata": {},
   "outputs": [],
   "source": [
    "open_etopo1([-80, -79, 20, 21], res='l')"
   ]
  },
  {
   "cell_type": "code",
   "execution_count": null,
   "metadata": {},
   "outputs": [],
   "source": [
    "proj = ccrs.PlateCarree()\n",
    "subplot_kw={'projection': proj, 'extent': large_box}\n",
    "fig, ax = plt.subplots(nrows=1, ncols=1, figsize=(8,8), dpi=120, facecolor='w', edgecolor='k', subplot_kw=subplot_kw)\n",
    "# m = topo.plot(ax=ax, add_colorbar=False, cmap=cmocean.cm.topo, alpha=0.2)\n",
    "# m = topo.plot(ax=ax, add_colorbar=False, vmax=0, cmap='Pastel1')\n",
    "# m = topo.plot(ax=ax, add_colorbar=False, vmax=0, cmap='GnBu_r', alpha=0.1)\n",
    "# m = topo.plot.contourf(ax=ax, add_colorbar=False, cmap=cmocean.cm.topo, alpha=0.2)\n",
    "m = topo.plot.contourf(ax=ax, add_colorbar=False, cmap='GnBu_r', alpha=0.2)\n",
    "# plt.colorbar(m, ax=ax, orientation='vertical', fraction=0.03, pad=0.15)\n",
    "\n",
    "# 1 color per float:\n",
    "rge = np.arange(1,len(np.unique(this['PLATFORM_NUMBER']))+1,1)\n",
    "dc = discrete_coloring(name='Set1', N=len(rge))\n",
    "    \n",
    "for ii, (wmo, that) in enumerate(this.groupby('PLATFORM_NUMBER')):\n",
    "    ax.plot(that['LONGITUDE'], that['LATITUDE'], 'k.-', zorder=1, color=dc.to_rgba(rge, rge[ii]), markersize=2)\n",
    "dc.cbar(ticklabels=np.unique(this['PLATFORM_NUMBER']), fraction=0.03, label='Floats ID')\n",
    "\n",
    "plt.xlabel('LONGITUDE')\n",
    "plt.ylabel('LATITUDE')\n",
    "gl = latlongrid(ax, dx=5, dy=5, fontsize=8)\n",
    "ax.add_feature(cfeature.COASTLINE)\n",
    "plt.title(ds.attrs['Fetched_constraints']);"
   ]
  },
  {
   "cell_type": "code",
   "execution_count": null,
   "metadata": {},
   "outputs": [],
   "source": [
    "fig, ax = plt.subplots(figsize=(10,8), dpi=90, facecolor='w', edgecolor='k')\n",
    "m = topo.plot.contourf(ax=ax, add_colorbar=False, cmap='GnBu_r', alpha=0.2)\n",
    "\n",
    "# 1 color per float:\n",
    "rge = np.arange(1,len(np.unique(this['PLATFORM_NUMBER']))+1,1)\n",
    "dc = discrete_coloring(name='Set1', N=len(rge))\n",
    "    \n",
    "for ii, (wmo, that) in enumerate(this.groupby('PLATFORM_NUMBER')):\n",
    "    ax.plot(that['LONGITUDE'], that['LATITUDE'], 'k.-', zorder=1, color=dc.to_rgba(rge, rge[ii]), markersize=2)\n",
    "dc.cbar(ticklabels=np.unique(this['PLATFORM_NUMBER']), fraction=0.03, label='Floats ID')\n",
    "plt.xlabel('LONGITUDE')\n",
    "plt.ylabel('LATITUDE')\n",
    "plt.title(ds.attrs['Fetched_constraints']);"
   ]
  },
  {
   "cell_type": "markdown",
   "metadata": {},
   "source": [
    "## More maps using proplot"
   ]
  },
  {
   "cell_type": "code",
   "execution_count": null,
   "metadata": {},
   "outputs": [],
   "source": [
    "import proplot as pplt\n",
    "def box2points(box):\n",
    "    xmin, xmax, ymin, ymax = box\n",
    "    return [xmin, xmax, xmax, xmin, xmin],[ymin, ymin, ymax, ymax, ymin]\n",
    "dx, dy = [10, 2], [10, 2]\n",
    "large_box = np.array(box[0:4]) + [-dx[0], dx[0], -dy[0], dy[0]]\n",
    "small_box = np.array(box[0:4]) + [-dx[1], dx[1], -dy[1], dy[1]]\n",
    "topo = open_etopo1(large_box)"
   ]
  },
  {
   "cell_type": "code",
   "execution_count": null,
   "metadata": {},
   "outputs": [],
   "source": [
    "pplt.rc['figure.facecolor'] = 'white'\n",
    "f, axs = pplt.subplots(ncols=2, axwidth=5, proj='merc')\n",
    "axs.format(land=True, reso='hi', landcolor='navy blue', facecolor='white', abc=True)\n",
    "axs.format(labels=True, grid=True)\n",
    "axs[0].format(lonlim=(box[0]-dx[0],box[1]+dx[0]), latlim=(box[2]-dy[0],box[3]+dy[0]), latlines=5, lonlines=10)\n",
    "axs[1].format(lonlim=(box[0]-dx[1],box[1]+dx[1]), latlim=(box[2]-dy[1],box[3]+dy[1]), latlines=2, lonlines=5)\n",
    "\n",
    "axs[0].plot(box2points(small_box)[0], box2points(small_box)[1], color='r', linestyle='--', linewidth=0.5);\n",
    "# axs.plot(this['LONGITUDE'], this['LATITUDE'], color='r', lw=0, marker='o', markersize=1)\n",
    "for ii, (wmo, that) in enumerate(this.groupby('PLATFORM_NUMBER')):\n",
    "    axs.plot(that['LONGITUDE'], that['LATITUDE'], 'r.-')\n",
    "axs.format(suptitle=ds.attrs['Fetched_constraints'])\n",
    "for ax in axs:\n",
    "    m = topo.plot(ax=ax, add_colorbar=False, vmax=0, cmap='GnBu_r', alpha=0.5)\n",
    "f.colorbar(m, loc='b', length=0.7);"
   ]
  },
  {
   "cell_type": "markdown",
   "metadata": {},
   "source": [
    "# Typhoon energy\n",
    "\n",
    "Reproduce figures from:\n",
    "https://twitter.com/DrKimWood/status/1262760220259782657\n",
    "    \n",
    "\n",
    "<img src='https://pbs.twimg.com/media/EYY5OBYWkAAgvd7?format=png&name=900x900'>"
   ]
  }
 ],
 "metadata": {
  "kernelspec": {
   "display_name": "argopy-docs",
   "language": "python",
   "name": "argopy-docs"
  },
  "language_info": {
   "codemirror_mode": {
    "name": "ipython",
    "version": 3
   },
   "file_extension": ".py",
   "mimetype": "text/x-python",
   "name": "python",
   "nbconvert_exporter": "python",
   "pygments_lexer": "ipython3",
   "version": "3.8.17"
  },
  "widgets": {
   "application/vnd.jupyter.widget-state+json": {
    "state": {},
    "version_major": 2,
    "version_minor": 0
   }
  }
 },
 "nbformat": 4,
 "nbformat_minor": 4
}
